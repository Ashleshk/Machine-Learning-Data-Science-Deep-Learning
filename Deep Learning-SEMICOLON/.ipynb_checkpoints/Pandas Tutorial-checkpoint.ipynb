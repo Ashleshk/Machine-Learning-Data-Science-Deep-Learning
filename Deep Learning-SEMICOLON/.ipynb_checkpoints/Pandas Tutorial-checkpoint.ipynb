{
 "cells": [
  {
   "cell_type": "code",
   "execution_count": 1,
   "metadata": {},
   "outputs": [],
   "source": [
    "import pandas as pd\n",
    "import numpy as np\n",
    "import matplotlib.pyplot as plt"
   ]
  },
  {
   "cell_type": "code",
   "execution_count": 2,
   "metadata": {
    "collapsed": false,
    "jupyter": {
     "outputs_hidden": false
    }
   },
   "outputs": [
    {
     "name": "stdout",
     "output_type": "stream",
     "text": [
      "          A         B         C         D\n",
      "0  0.172436  0.545567  0.135787  0.699903\n",
      "1  0.903085  0.084834  0.434398  0.574226\n",
      "2  0.747484  0.441800  0.524028  0.512533\n",
      "3  0.740222  0.370440  0.590918  0.333318\n",
      "4  0.149652  0.576975  0.973204  0.344858\n",
      "5  0.381970  0.076347  0.729016  0.892156\n",
      "6  0.078150  0.293688  0.212771  0.530447\n",
      "7  0.342108  0.657256  0.623736  0.366659\n",
      "8  0.956429  0.267222  0.246846  0.451634\n",
      "9  0.969242  0.087329  0.379173  0.401570\n"
     ]
    }
   ],
   "source": [
    "#creating a dataframe\n",
    "df=pd.DataFrame(np.random.rand(10,4),columns=['A','B','C','D'])\n",
    "print (df)"
   ]
  },
  {
   "cell_type": "code",
   "execution_count": 3,
   "metadata": {
    "collapsed": false,
    "jupyter": {
     "outputs_hidden": false
    }
   },
   "outputs": [
    {
     "name": "stdout",
     "output_type": "stream",
     "text": [
      "    A    B   C   D\n",
      "0  10   20  30  40\n",
      "1  20  100  40  50\n"
     ]
    }
   ],
   "source": [
    "#creating a dataframe with dictionary\n",
    "df2 = pd.DataFrame({'A' : [10,20],'B' : [20,100],'C' : [30,40],'D' : [40,50]})\n",
    "print (df2)"
   ]
  },
  {
   "cell_type": "code",
   "execution_count": 4,
   "metadata": {
    "collapsed": false,
    "jupyter": {
     "outputs_hidden": false
    }
   },
   "outputs": [
    {
     "data": {
      "text/plain": [
       "A    int64\n",
       "B    int64\n",
       "C    int64\n",
       "D    int64\n",
       "dtype: object"
      ]
     },
     "execution_count": 4,
     "metadata": {},
     "output_type": "execute_result"
    }
   ],
   "source": [
    "#looking at the variable types\n",
    "df2.dtypes"
   ]
  },
  {
   "cell_type": "code",
   "execution_count": 5,
   "metadata": {
    "collapsed": false,
    "jupyter": {
     "outputs_hidden": false
    }
   },
   "outputs": [
    {
     "data": {
      "text/html": [
       "<div>\n",
       "<style scoped>\n",
       "    .dataframe tbody tr th:only-of-type {\n",
       "        vertical-align: middle;\n",
       "    }\n",
       "\n",
       "    .dataframe tbody tr th {\n",
       "        vertical-align: top;\n",
       "    }\n",
       "\n",
       "    .dataframe thead th {\n",
       "        text-align: right;\n",
       "    }\n",
       "</style>\n",
       "<table border=\"1\" class=\"dataframe\">\n",
       "  <thead>\n",
       "    <tr style=\"text-align: right;\">\n",
       "      <th></th>\n",
       "      <th>A</th>\n",
       "      <th>B</th>\n",
       "      <th>C</th>\n",
       "      <th>D</th>\n",
       "    </tr>\n",
       "  </thead>\n",
       "  <tbody>\n",
       "    <tr>\n",
       "      <td>0</td>\n",
       "      <td>0.172436</td>\n",
       "      <td>0.545567</td>\n",
       "      <td>0.135787</td>\n",
       "      <td>0.699903</td>\n",
       "    </tr>\n",
       "    <tr>\n",
       "      <td>1</td>\n",
       "      <td>0.903085</td>\n",
       "      <td>0.084834</td>\n",
       "      <td>0.434398</td>\n",
       "      <td>0.574226</td>\n",
       "    </tr>\n",
       "    <tr>\n",
       "      <td>2</td>\n",
       "      <td>0.747484</td>\n",
       "      <td>0.441800</td>\n",
       "      <td>0.524028</td>\n",
       "      <td>0.512533</td>\n",
       "    </tr>\n",
       "    <tr>\n",
       "      <td>3</td>\n",
       "      <td>0.740222</td>\n",
       "      <td>0.370440</td>\n",
       "      <td>0.590918</td>\n",
       "      <td>0.333318</td>\n",
       "    </tr>\n",
       "    <tr>\n",
       "      <td>4</td>\n",
       "      <td>0.149652</td>\n",
       "      <td>0.576975</td>\n",
       "      <td>0.973204</td>\n",
       "      <td>0.344858</td>\n",
       "    </tr>\n",
       "  </tbody>\n",
       "</table>\n",
       "</div>"
      ],
      "text/plain": [
       "          A         B         C         D\n",
       "0  0.172436  0.545567  0.135787  0.699903\n",
       "1  0.903085  0.084834  0.434398  0.574226\n",
       "2  0.747484  0.441800  0.524028  0.512533\n",
       "3  0.740222  0.370440  0.590918  0.333318\n",
       "4  0.149652  0.576975  0.973204  0.344858"
      ]
     },
     "execution_count": 5,
     "metadata": {},
     "output_type": "execute_result"
    }
   ],
   "source": [
    "#looking at the top few values, default 5\n",
    "df.head()"
   ]
  },
  {
   "cell_type": "code",
   "execution_count": 6,
   "metadata": {
    "collapsed": false,
    "jupyter": {
     "outputs_hidden": false
    }
   },
   "outputs": [
    {
     "data": {
      "text/html": [
       "<div>\n",
       "<style scoped>\n",
       "    .dataframe tbody tr th:only-of-type {\n",
       "        vertical-align: middle;\n",
       "    }\n",
       "\n",
       "    .dataframe tbody tr th {\n",
       "        vertical-align: top;\n",
       "    }\n",
       "\n",
       "    .dataframe thead th {\n",
       "        text-align: right;\n",
       "    }\n",
       "</style>\n",
       "<table border=\"1\" class=\"dataframe\">\n",
       "  <thead>\n",
       "    <tr style=\"text-align: right;\">\n",
       "      <th></th>\n",
       "      <th>A</th>\n",
       "      <th>B</th>\n",
       "      <th>C</th>\n",
       "      <th>D</th>\n",
       "    </tr>\n",
       "  </thead>\n",
       "  <tbody>\n",
       "    <tr>\n",
       "      <td>5</td>\n",
       "      <td>0.381970</td>\n",
       "      <td>0.076347</td>\n",
       "      <td>0.729016</td>\n",
       "      <td>0.892156</td>\n",
       "    </tr>\n",
       "    <tr>\n",
       "      <td>6</td>\n",
       "      <td>0.078150</td>\n",
       "      <td>0.293688</td>\n",
       "      <td>0.212771</td>\n",
       "      <td>0.530447</td>\n",
       "    </tr>\n",
       "    <tr>\n",
       "      <td>7</td>\n",
       "      <td>0.342108</td>\n",
       "      <td>0.657256</td>\n",
       "      <td>0.623736</td>\n",
       "      <td>0.366659</td>\n",
       "    </tr>\n",
       "    <tr>\n",
       "      <td>8</td>\n",
       "      <td>0.956429</td>\n",
       "      <td>0.267222</td>\n",
       "      <td>0.246846</td>\n",
       "      <td>0.451634</td>\n",
       "    </tr>\n",
       "    <tr>\n",
       "      <td>9</td>\n",
       "      <td>0.969242</td>\n",
       "      <td>0.087329</td>\n",
       "      <td>0.379173</td>\n",
       "      <td>0.401570</td>\n",
       "    </tr>\n",
       "  </tbody>\n",
       "</table>\n",
       "</div>"
      ],
      "text/plain": [
       "          A         B         C         D\n",
       "5  0.381970  0.076347  0.729016  0.892156\n",
       "6  0.078150  0.293688  0.212771  0.530447\n",
       "7  0.342108  0.657256  0.623736  0.366659\n",
       "8  0.956429  0.267222  0.246846  0.451634\n",
       "9  0.969242  0.087329  0.379173  0.401570"
      ]
     },
     "execution_count": 6,
     "metadata": {},
     "output_type": "execute_result"
    }
   ],
   "source": [
    "#looking at the last few values\n",
    "df.tail()"
   ]
  },
  {
   "cell_type": "code",
   "execution_count": 7,
   "metadata": {
    "collapsed": false,
    "jupyter": {
     "outputs_hidden": false
    }
   },
   "outputs": [
    {
     "data": {
      "text/plain": [
       "RangeIndex(start=0, stop=10, step=1)"
      ]
     },
     "execution_count": 7,
     "metadata": {},
     "output_type": "execute_result"
    }
   ],
   "source": [
    "#to get the indexes\n",
    "df.index"
   ]
  },
  {
   "cell_type": "code",
   "execution_count": 8,
   "metadata": {
    "collapsed": false,
    "jupyter": {
     "outputs_hidden": false
    }
   },
   "outputs": [
    {
     "data": {
      "text/plain": [
       "Index(['A', 'B', 'C', 'D'], dtype='object')"
      ]
     },
     "execution_count": 8,
     "metadata": {},
     "output_type": "execute_result"
    }
   ],
   "source": [
    "#to get the column names\n",
    "df.columns"
   ]
  },
  {
   "cell_type": "code",
   "execution_count": 9,
   "metadata": {
    "collapsed": false,
    "jupyter": {
     "outputs_hidden": false
    }
   },
   "outputs": [
    {
     "data": {
      "text/plain": [
       "array([[0.17243568, 0.54556716, 0.13578671, 0.69990349],\n",
       "       [0.90308481, 0.08483391, 0.4343976 , 0.57422591],\n",
       "       [0.74748406, 0.44179998, 0.52402787, 0.51253274],\n",
       "       [0.74022232, 0.37044028, 0.5909184 , 0.33331791],\n",
       "       [0.14965209, 0.57697522, 0.97320417, 0.34485794],\n",
       "       [0.38197048, 0.07634695, 0.72901645, 0.89215554],\n",
       "       [0.07815019, 0.29368796, 0.21277103, 0.53044704],\n",
       "       [0.34210799, 0.65725563, 0.6237362 , 0.36665897],\n",
       "       [0.9564294 , 0.2672221 , 0.24684649, 0.45163361],\n",
       "       [0.96924249, 0.08732899, 0.37917295, 0.4015697 ]])"
      ]
     },
     "execution_count": 9,
     "metadata": {},
     "output_type": "execute_result"
    }
   ],
   "source": [
    "#to get the values\n",
    "df.values"
   ]
  },
  {
   "cell_type": "code",
   "execution_count": 10,
   "metadata": {
    "collapsed": false,
    "jupyter": {
     "outputs_hidden": false
    }
   },
   "outputs": [
    {
     "data": {
      "text/html": [
       "<div>\n",
       "<style scoped>\n",
       "    .dataframe tbody tr th:only-of-type {\n",
       "        vertical-align: middle;\n",
       "    }\n",
       "\n",
       "    .dataframe tbody tr th {\n",
       "        vertical-align: top;\n",
       "    }\n",
       "\n",
       "    .dataframe thead th {\n",
       "        text-align: right;\n",
       "    }\n",
       "</style>\n",
       "<table border=\"1\" class=\"dataframe\">\n",
       "  <thead>\n",
       "    <tr style=\"text-align: right;\">\n",
       "      <th></th>\n",
       "      <th>A</th>\n",
       "      <th>B</th>\n",
       "      <th>C</th>\n",
       "      <th>D</th>\n",
       "    </tr>\n",
       "  </thead>\n",
       "  <tbody>\n",
       "    <tr>\n",
       "      <td>count</td>\n",
       "      <td>10.000000</td>\n",
       "      <td>10.000000</td>\n",
       "      <td>10.000000</td>\n",
       "      <td>10.000000</td>\n",
       "    </tr>\n",
       "    <tr>\n",
       "      <td>mean</td>\n",
       "      <td>0.544078</td>\n",
       "      <td>0.340146</td>\n",
       "      <td>0.484988</td>\n",
       "      <td>0.510730</td>\n",
       "    </tr>\n",
       "    <tr>\n",
       "      <td>std</td>\n",
       "      <td>0.355493</td>\n",
       "      <td>0.215061</td>\n",
       "      <td>0.257426</td>\n",
       "      <td>0.176651</td>\n",
       "    </tr>\n",
       "    <tr>\n",
       "      <td>min</td>\n",
       "      <td>0.078150</td>\n",
       "      <td>0.076347</td>\n",
       "      <td>0.135787</td>\n",
       "      <td>0.333318</td>\n",
       "    </tr>\n",
       "    <tr>\n",
       "      <td>25%</td>\n",
       "      <td>0.214854</td>\n",
       "      <td>0.132302</td>\n",
       "      <td>0.279928</td>\n",
       "      <td>0.375387</td>\n",
       "    </tr>\n",
       "    <tr>\n",
       "      <td>50%</td>\n",
       "      <td>0.561096</td>\n",
       "      <td>0.332064</td>\n",
       "      <td>0.479213</td>\n",
       "      <td>0.482083</td>\n",
       "    </tr>\n",
       "    <tr>\n",
       "      <td>75%</td>\n",
       "      <td>0.864185</td>\n",
       "      <td>0.519625</td>\n",
       "      <td>0.615532</td>\n",
       "      <td>0.563281</td>\n",
       "    </tr>\n",
       "    <tr>\n",
       "      <td>max</td>\n",
       "      <td>0.969242</td>\n",
       "      <td>0.657256</td>\n",
       "      <td>0.973204</td>\n",
       "      <td>0.892156</td>\n",
       "    </tr>\n",
       "  </tbody>\n",
       "</table>\n",
       "</div>"
      ],
      "text/plain": [
       "               A          B          C          D\n",
       "count  10.000000  10.000000  10.000000  10.000000\n",
       "mean    0.544078   0.340146   0.484988   0.510730\n",
       "std     0.355493   0.215061   0.257426   0.176651\n",
       "min     0.078150   0.076347   0.135787   0.333318\n",
       "25%     0.214854   0.132302   0.279928   0.375387\n",
       "50%     0.561096   0.332064   0.479213   0.482083\n",
       "75%     0.864185   0.519625   0.615532   0.563281\n",
       "max     0.969242   0.657256   0.973204   0.892156"
      ]
     },
     "execution_count": 10,
     "metadata": {},
     "output_type": "execute_result"
    }
   ],
   "source": [
    "#to get quick statistics about the data\n",
    "df.describe()"
   ]
  },
  {
   "cell_type": "code",
   "execution_count": 11,
   "metadata": {
    "collapsed": false,
    "jupyter": {
     "outputs_hidden": false
    }
   },
   "outputs": [
    {
     "data": {
      "text/html": [
       "<div>\n",
       "<style scoped>\n",
       "    .dataframe tbody tr th:only-of-type {\n",
       "        vertical-align: middle;\n",
       "    }\n",
       "\n",
       "    .dataframe tbody tr th {\n",
       "        vertical-align: top;\n",
       "    }\n",
       "\n",
       "    .dataframe thead th {\n",
       "        text-align: right;\n",
       "    }\n",
       "</style>\n",
       "<table border=\"1\" class=\"dataframe\">\n",
       "  <thead>\n",
       "    <tr style=\"text-align: right;\">\n",
       "      <th></th>\n",
       "      <th>A</th>\n",
       "      <th>B</th>\n",
       "      <th>C</th>\n",
       "      <th>D</th>\n",
       "    </tr>\n",
       "  </thead>\n",
       "  <tbody>\n",
       "    <tr>\n",
       "      <td>9</td>\n",
       "      <td>0.969242</td>\n",
       "      <td>0.087329</td>\n",
       "      <td>0.379173</td>\n",
       "      <td>0.401570</td>\n",
       "    </tr>\n",
       "    <tr>\n",
       "      <td>8</td>\n",
       "      <td>0.956429</td>\n",
       "      <td>0.267222</td>\n",
       "      <td>0.246846</td>\n",
       "      <td>0.451634</td>\n",
       "    </tr>\n",
       "    <tr>\n",
       "      <td>7</td>\n",
       "      <td>0.342108</td>\n",
       "      <td>0.657256</td>\n",
       "      <td>0.623736</td>\n",
       "      <td>0.366659</td>\n",
       "    </tr>\n",
       "    <tr>\n",
       "      <td>6</td>\n",
       "      <td>0.078150</td>\n",
       "      <td>0.293688</td>\n",
       "      <td>0.212771</td>\n",
       "      <td>0.530447</td>\n",
       "    </tr>\n",
       "    <tr>\n",
       "      <td>5</td>\n",
       "      <td>0.381970</td>\n",
       "      <td>0.076347</td>\n",
       "      <td>0.729016</td>\n",
       "      <td>0.892156</td>\n",
       "    </tr>\n",
       "    <tr>\n",
       "      <td>4</td>\n",
       "      <td>0.149652</td>\n",
       "      <td>0.576975</td>\n",
       "      <td>0.973204</td>\n",
       "      <td>0.344858</td>\n",
       "    </tr>\n",
       "    <tr>\n",
       "      <td>3</td>\n",
       "      <td>0.740222</td>\n",
       "      <td>0.370440</td>\n",
       "      <td>0.590918</td>\n",
       "      <td>0.333318</td>\n",
       "    </tr>\n",
       "    <tr>\n",
       "      <td>2</td>\n",
       "      <td>0.747484</td>\n",
       "      <td>0.441800</td>\n",
       "      <td>0.524028</td>\n",
       "      <td>0.512533</td>\n",
       "    </tr>\n",
       "    <tr>\n",
       "      <td>1</td>\n",
       "      <td>0.903085</td>\n",
       "      <td>0.084834</td>\n",
       "      <td>0.434398</td>\n",
       "      <td>0.574226</td>\n",
       "    </tr>\n",
       "    <tr>\n",
       "      <td>0</td>\n",
       "      <td>0.172436</td>\n",
       "      <td>0.545567</td>\n",
       "      <td>0.135787</td>\n",
       "      <td>0.699903</td>\n",
       "    </tr>\n",
       "  </tbody>\n",
       "</table>\n",
       "</div>"
      ],
      "text/plain": [
       "          A         B         C         D\n",
       "9  0.969242  0.087329  0.379173  0.401570\n",
       "8  0.956429  0.267222  0.246846  0.451634\n",
       "7  0.342108  0.657256  0.623736  0.366659\n",
       "6  0.078150  0.293688  0.212771  0.530447\n",
       "5  0.381970  0.076347  0.729016  0.892156\n",
       "4  0.149652  0.576975  0.973204  0.344858\n",
       "3  0.740222  0.370440  0.590918  0.333318\n",
       "2  0.747484  0.441800  0.524028  0.512533\n",
       "1  0.903085  0.084834  0.434398  0.574226\n",
       "0  0.172436  0.545567  0.135787  0.699903"
      ]
     },
     "execution_count": 11,
     "metadata": {},
     "output_type": "execute_result"
    }
   ],
   "source": [
    "# for sorting the index\n",
    "df.sort_index(axis=0, ascending=False)"
   ]
  },
  {
   "cell_type": "code",
   "execution_count": 12,
   "metadata": {
    "collapsed": false,
    "jupyter": {
     "outputs_hidden": false
    }
   },
   "outputs": [
    {
     "data": {
      "text/html": [
       "<div>\n",
       "<style scoped>\n",
       "    .dataframe tbody tr th:only-of-type {\n",
       "        vertical-align: middle;\n",
       "    }\n",
       "\n",
       "    .dataframe tbody tr th {\n",
       "        vertical-align: top;\n",
       "    }\n",
       "\n",
       "    .dataframe thead th {\n",
       "        text-align: right;\n",
       "    }\n",
       "</style>\n",
       "<table border=\"1\" class=\"dataframe\">\n",
       "  <thead>\n",
       "    <tr style=\"text-align: right;\">\n",
       "      <th></th>\n",
       "      <th>A</th>\n",
       "      <th>B</th>\n",
       "      <th>C</th>\n",
       "      <th>D</th>\n",
       "    </tr>\n",
       "  </thead>\n",
       "  <tbody>\n",
       "    <tr>\n",
       "      <td>6</td>\n",
       "      <td>0.078150</td>\n",
       "      <td>0.293688</td>\n",
       "      <td>0.212771</td>\n",
       "      <td>0.530447</td>\n",
       "    </tr>\n",
       "    <tr>\n",
       "      <td>4</td>\n",
       "      <td>0.149652</td>\n",
       "      <td>0.576975</td>\n",
       "      <td>0.973204</td>\n",
       "      <td>0.344858</td>\n",
       "    </tr>\n",
       "    <tr>\n",
       "      <td>0</td>\n",
       "      <td>0.172436</td>\n",
       "      <td>0.545567</td>\n",
       "      <td>0.135787</td>\n",
       "      <td>0.699903</td>\n",
       "    </tr>\n",
       "    <tr>\n",
       "      <td>7</td>\n",
       "      <td>0.342108</td>\n",
       "      <td>0.657256</td>\n",
       "      <td>0.623736</td>\n",
       "      <td>0.366659</td>\n",
       "    </tr>\n",
       "    <tr>\n",
       "      <td>5</td>\n",
       "      <td>0.381970</td>\n",
       "      <td>0.076347</td>\n",
       "      <td>0.729016</td>\n",
       "      <td>0.892156</td>\n",
       "    </tr>\n",
       "    <tr>\n",
       "      <td>3</td>\n",
       "      <td>0.740222</td>\n",
       "      <td>0.370440</td>\n",
       "      <td>0.590918</td>\n",
       "      <td>0.333318</td>\n",
       "    </tr>\n",
       "    <tr>\n",
       "      <td>2</td>\n",
       "      <td>0.747484</td>\n",
       "      <td>0.441800</td>\n",
       "      <td>0.524028</td>\n",
       "      <td>0.512533</td>\n",
       "    </tr>\n",
       "    <tr>\n",
       "      <td>1</td>\n",
       "      <td>0.903085</td>\n",
       "      <td>0.084834</td>\n",
       "      <td>0.434398</td>\n",
       "      <td>0.574226</td>\n",
       "    </tr>\n",
       "    <tr>\n",
       "      <td>8</td>\n",
       "      <td>0.956429</td>\n",
       "      <td>0.267222</td>\n",
       "      <td>0.246846</td>\n",
       "      <td>0.451634</td>\n",
       "    </tr>\n",
       "    <tr>\n",
       "      <td>9</td>\n",
       "      <td>0.969242</td>\n",
       "      <td>0.087329</td>\n",
       "      <td>0.379173</td>\n",
       "      <td>0.401570</td>\n",
       "    </tr>\n",
       "  </tbody>\n",
       "</table>\n",
       "</div>"
      ],
      "text/plain": [
       "          A         B         C         D\n",
       "6  0.078150  0.293688  0.212771  0.530447\n",
       "4  0.149652  0.576975  0.973204  0.344858\n",
       "0  0.172436  0.545567  0.135787  0.699903\n",
       "7  0.342108  0.657256  0.623736  0.366659\n",
       "5  0.381970  0.076347  0.729016  0.892156\n",
       "3  0.740222  0.370440  0.590918  0.333318\n",
       "2  0.747484  0.441800  0.524028  0.512533\n",
       "1  0.903085  0.084834  0.434398  0.574226\n",
       "8  0.956429  0.267222  0.246846  0.451634\n",
       "9  0.969242  0.087329  0.379173  0.401570"
      ]
     },
     "execution_count": 12,
     "metadata": {},
     "output_type": "execute_result"
    }
   ],
   "source": [
    "#for sorting by a column\n",
    "df.sort_values(by='A')"
   ]
  },
  {
   "cell_type": "markdown",
   "metadata": {},
   "source": [
    "# Selecting Values\n"
   ]
  },
  {
   "cell_type": "code",
   "execution_count": 13,
   "metadata": {
    "collapsed": false,
    "jupyter": {
     "outputs_hidden": false
    }
   },
   "outputs": [
    {
     "data": {
      "text/plain": [
       "0    0.172436\n",
       "1    0.903085\n",
       "2    0.747484\n",
       "3    0.740222\n",
       "4    0.149652\n",
       "5    0.381970\n",
       "6    0.078150\n",
       "7    0.342108\n",
       "8    0.956429\n",
       "9    0.969242\n",
       "Name: A, dtype: float64"
      ]
     },
     "execution_count": 13,
     "metadata": {},
     "output_type": "execute_result"
    }
   ],
   "source": [
    "# selecting columns\n",
    "df['A']"
   ]
  },
  {
   "cell_type": "code",
   "execution_count": 14,
   "metadata": {
    "collapsed": false,
    "jupyter": {
     "outputs_hidden": false
    }
   },
   "outputs": [
    {
     "data": {
      "text/html": [
       "<div>\n",
       "<style scoped>\n",
       "    .dataframe tbody tr th:only-of-type {\n",
       "        vertical-align: middle;\n",
       "    }\n",
       "\n",
       "    .dataframe tbody tr th {\n",
       "        vertical-align: top;\n",
       "    }\n",
       "\n",
       "    .dataframe thead th {\n",
       "        text-align: right;\n",
       "    }\n",
       "</style>\n",
       "<table border=\"1\" class=\"dataframe\">\n",
       "  <thead>\n",
       "    <tr style=\"text-align: right;\">\n",
       "      <th></th>\n",
       "      <th>A</th>\n",
       "      <th>B</th>\n",
       "      <th>C</th>\n",
       "      <th>D</th>\n",
       "    </tr>\n",
       "  </thead>\n",
       "  <tbody>\n",
       "    <tr>\n",
       "      <td>0</td>\n",
       "      <td>0.172436</td>\n",
       "      <td>0.545567</td>\n",
       "      <td>0.135787</td>\n",
       "      <td>0.699903</td>\n",
       "    </tr>\n",
       "    <tr>\n",
       "      <td>1</td>\n",
       "      <td>0.903085</td>\n",
       "      <td>0.084834</td>\n",
       "      <td>0.434398</td>\n",
       "      <td>0.574226</td>\n",
       "    </tr>\n",
       "  </tbody>\n",
       "</table>\n",
       "</div>"
      ],
      "text/plain": [
       "          A         B         C         D\n",
       "0  0.172436  0.545567  0.135787  0.699903\n",
       "1  0.903085  0.084834  0.434398  0.574226"
      ]
     },
     "execution_count": 14,
     "metadata": {},
     "output_type": "execute_result"
    }
   ],
   "source": [
    "#selecting range of rows\n",
    "df[0:2]"
   ]
  },
  {
   "cell_type": "code",
   "execution_count": 15,
   "metadata": {
    "collapsed": false,
    "jupyter": {
     "outputs_hidden": false
    }
   },
   "outputs": [
    {
     "data": {
      "text/plain": [
       "A    0.172436\n",
       "B    0.545567\n",
       "C    0.135787\n",
       "D    0.699903\n",
       "Name: 0, dtype: float64"
      ]
     },
     "execution_count": 15,
     "metadata": {},
     "output_type": "execute_result"
    }
   ],
   "source": [
    "#selecting a particular row\n",
    "df.loc[0]"
   ]
  },
  {
   "cell_type": "code",
   "execution_count": 16,
   "metadata": {
    "collapsed": false,
    "jupyter": {
     "outputs_hidden": false
    }
   },
   "outputs": [
    {
     "data": {
      "text/plain": [
       "A    0.172436\n",
       "Name: 0, dtype: float64"
      ]
     },
     "execution_count": 16,
     "metadata": {},
     "output_type": "execute_result"
    }
   ],
   "source": [
    "#selecting a row and column\n",
    "df.loc[0,['A']]"
   ]
  },
  {
   "cell_type": "code",
   "execution_count": 17,
   "metadata": {
    "collapsed": false,
    "jupyter": {
     "outputs_hidden": false
    }
   },
   "outputs": [
    {
     "data": {
      "text/html": [
       "<div>\n",
       "<style scoped>\n",
       "    .dataframe tbody tr th:only-of-type {\n",
       "        vertical-align: middle;\n",
       "    }\n",
       "\n",
       "    .dataframe tbody tr th {\n",
       "        vertical-align: top;\n",
       "    }\n",
       "\n",
       "    .dataframe thead th {\n",
       "        text-align: right;\n",
       "    }\n",
       "</style>\n",
       "<table border=\"1\" class=\"dataframe\">\n",
       "  <thead>\n",
       "    <tr style=\"text-align: right;\">\n",
       "      <th></th>\n",
       "      <th>A</th>\n",
       "    </tr>\n",
       "  </thead>\n",
       "  <tbody>\n",
       "    <tr>\n",
       "      <td>0</td>\n",
       "      <td>0.172436</td>\n",
       "    </tr>\n",
       "    <tr>\n",
       "      <td>1</td>\n",
       "      <td>0.903085</td>\n",
       "    </tr>\n",
       "    <tr>\n",
       "      <td>2</td>\n",
       "      <td>0.747484</td>\n",
       "    </tr>\n",
       "    <tr>\n",
       "      <td>3</td>\n",
       "      <td>0.740222</td>\n",
       "    </tr>\n",
       "    <tr>\n",
       "      <td>4</td>\n",
       "      <td>0.149652</td>\n",
       "    </tr>\n",
       "    <tr>\n",
       "      <td>5</td>\n",
       "      <td>0.381970</td>\n",
       "    </tr>\n",
       "    <tr>\n",
       "      <td>6</td>\n",
       "      <td>0.078150</td>\n",
       "    </tr>\n",
       "    <tr>\n",
       "      <td>7</td>\n",
       "      <td>0.342108</td>\n",
       "    </tr>\n",
       "    <tr>\n",
       "      <td>8</td>\n",
       "      <td>0.956429</td>\n",
       "    </tr>\n",
       "    <tr>\n",
       "      <td>9</td>\n",
       "      <td>0.969242</td>\n",
       "    </tr>\n",
       "  </tbody>\n",
       "</table>\n",
       "</div>"
      ],
      "text/plain": [
       "          A\n",
       "0  0.172436\n",
       "1  0.903085\n",
       "2  0.747484\n",
       "3  0.740222\n",
       "4  0.149652\n",
       "5  0.381970\n",
       "6  0.078150\n",
       "7  0.342108\n",
       "8  0.956429\n",
       "9  0.969242"
      ]
     },
     "execution_count": 17,
     "metadata": {},
     "output_type": "execute_result"
    }
   ],
   "source": [
    "df.loc[:,['A']]"
   ]
  },
  {
   "cell_type": "code",
   "execution_count": 18,
   "metadata": {
    "collapsed": false,
    "jupyter": {
     "outputs_hidden": false
    }
   },
   "outputs": [
    {
     "data": {
      "text/plain": [
       "0.17243568025177725"
      ]
     },
     "execution_count": 18,
     "metadata": {},
     "output_type": "execute_result"
    }
   ],
   "source": [
    "#using at instead for faster access , can't be used for a range\n",
    "df.at[0,'A']"
   ]
  },
  {
   "cell_type": "code",
   "execution_count": 19,
   "metadata": {
    "collapsed": false,
    "jupyter": {
     "outputs_hidden": false
    }
   },
   "outputs": [
    {
     "data": {
      "text/plain": [
       "A    0.172436\n",
       "B    0.545567\n",
       "C    0.135787\n",
       "D    0.699903\n",
       "Name: 0, dtype: float64"
      ]
     },
     "execution_count": 19,
     "metadata": {},
     "output_type": "execute_result"
    }
   ],
   "source": [
    "#selecting by posion \n",
    "df.iloc[0]"
   ]
  },
  {
   "cell_type": "code",
   "execution_count": 20,
   "metadata": {
    "collapsed": false,
    "jupyter": {
     "outputs_hidden": false
    }
   },
   "outputs": [
    {
     "data": {
      "text/html": [
       "<div>\n",
       "<style scoped>\n",
       "    .dataframe tbody tr th:only-of-type {\n",
       "        vertical-align: middle;\n",
       "    }\n",
       "\n",
       "    .dataframe tbody tr th {\n",
       "        vertical-align: top;\n",
       "    }\n",
       "\n",
       "    .dataframe thead th {\n",
       "        text-align: right;\n",
       "    }\n",
       "</style>\n",
       "<table border=\"1\" class=\"dataframe\">\n",
       "  <thead>\n",
       "    <tr style=\"text-align: right;\">\n",
       "      <th></th>\n",
       "      <th>A</th>\n",
       "      <th>B</th>\n",
       "      <th>C</th>\n",
       "      <th>D</th>\n",
       "    </tr>\n",
       "  </thead>\n",
       "  <tbody>\n",
       "    <tr>\n",
       "      <td>0</td>\n",
       "      <td>0.172436</td>\n",
       "      <td>0.545567</td>\n",
       "      <td>0.135787</td>\n",
       "      <td>0.699903</td>\n",
       "    </tr>\n",
       "    <tr>\n",
       "      <td>1</td>\n",
       "      <td>0.903085</td>\n",
       "      <td>0.084834</td>\n",
       "      <td>0.434398</td>\n",
       "      <td>0.574226</td>\n",
       "    </tr>\n",
       "    <tr>\n",
       "      <td>2</td>\n",
       "      <td>0.747484</td>\n",
       "      <td>0.441800</td>\n",
       "      <td>0.524028</td>\n",
       "      <td>0.512533</td>\n",
       "    </tr>\n",
       "    <tr>\n",
       "      <td>3</td>\n",
       "      <td>0.740222</td>\n",
       "      <td>0.370440</td>\n",
       "      <td>0.590918</td>\n",
       "      <td>0.333318</td>\n",
       "    </tr>\n",
       "    <tr>\n",
       "      <td>4</td>\n",
       "      <td>0.149652</td>\n",
       "      <td>0.576975</td>\n",
       "      <td>0.973204</td>\n",
       "      <td>0.344858</td>\n",
       "    </tr>\n",
       "    <tr>\n",
       "      <td>5</td>\n",
       "      <td>0.381970</td>\n",
       "      <td>0.076347</td>\n",
       "      <td>0.729016</td>\n",
       "      <td>0.892156</td>\n",
       "    </tr>\n",
       "    <tr>\n",
       "      <td>6</td>\n",
       "      <td>0.078150</td>\n",
       "      <td>0.293688</td>\n",
       "      <td>0.212771</td>\n",
       "      <td>0.530447</td>\n",
       "    </tr>\n",
       "    <tr>\n",
       "      <td>7</td>\n",
       "      <td>0.342108</td>\n",
       "      <td>0.657256</td>\n",
       "      <td>0.623736</td>\n",
       "      <td>0.366659</td>\n",
       "    </tr>\n",
       "    <tr>\n",
       "      <td>8</td>\n",
       "      <td>0.956429</td>\n",
       "      <td>0.267222</td>\n",
       "      <td>0.246846</td>\n",
       "      <td>0.451634</td>\n",
       "    </tr>\n",
       "    <tr>\n",
       "      <td>9</td>\n",
       "      <td>0.969242</td>\n",
       "      <td>0.087329</td>\n",
       "      <td>0.379173</td>\n",
       "      <td>0.401570</td>\n",
       "    </tr>\n",
       "  </tbody>\n",
       "</table>\n",
       "</div>"
      ],
      "text/plain": [
       "          A         B         C         D\n",
       "0  0.172436  0.545567  0.135787  0.699903\n",
       "1  0.903085  0.084834  0.434398  0.574226\n",
       "2  0.747484  0.441800  0.524028  0.512533\n",
       "3  0.740222  0.370440  0.590918  0.333318\n",
       "4  0.149652  0.576975  0.973204  0.344858\n",
       "5  0.381970  0.076347  0.729016  0.892156\n",
       "6  0.078150  0.293688  0.212771  0.530447\n",
       "7  0.342108  0.657256  0.623736  0.366659\n",
       "8  0.956429  0.267222  0.246846  0.451634\n",
       "9  0.969242  0.087329  0.379173  0.401570"
      ]
     },
     "execution_count": 20,
     "metadata": {},
     "output_type": "execute_result"
    }
   ],
   "source": [
    "#selecting by condition \n",
    "df[df.A>0]"
   ]
  },
  {
   "cell_type": "markdown",
   "metadata": {},
   "source": [
    "# Missing Data"
   ]
  },
  {
   "cell_type": "code",
   "execution_count": 22,
   "metadata": {
    "collapsed": false,
    "jupyter": {
     "outputs_hidden": false
    }
   },
   "outputs": [
    {
     "name": "stdout",
     "output_type": "stream",
     "text": [
      "          A         B         C         D\n",
      "0  0.172436       NaN  0.135787       NaN\n",
      "1       NaN  0.084834  0.434398       NaN\n",
      "2       NaN  0.441800       NaN       NaN\n",
      "3       NaN  0.370440       NaN  0.333318\n",
      "4  0.149652       NaN       NaN  0.344858\n",
      "5  0.381970  0.076347       NaN       NaN\n",
      "6  0.078150  0.293688  0.212771       NaN\n",
      "7  0.342108       NaN       NaN  0.366659\n",
      "8       NaN  0.267222  0.246846  0.451634\n",
      "9       NaN  0.087329  0.379173  0.401570\n"
     ]
    }
   ],
   "source": [
    "df2=df[df<.5]\n",
    "print (df2)"
   ]
  },
  {
   "cell_type": "code",
   "execution_count": 23,
   "metadata": {
    "collapsed": false,
    "jupyter": {
     "outputs_hidden": false
    }
   },
   "outputs": [
    {
     "data": {
      "text/html": [
       "<div>\n",
       "<style scoped>\n",
       "    .dataframe tbody tr th:only-of-type {\n",
       "        vertical-align: middle;\n",
       "    }\n",
       "\n",
       "    .dataframe tbody tr th {\n",
       "        vertical-align: top;\n",
       "    }\n",
       "\n",
       "    .dataframe thead th {\n",
       "        text-align: right;\n",
       "    }\n",
       "</style>\n",
       "<table border=\"1\" class=\"dataframe\">\n",
       "  <thead>\n",
       "    <tr style=\"text-align: right;\">\n",
       "      <th></th>\n",
       "      <th>A</th>\n",
       "      <th>B</th>\n",
       "      <th>C</th>\n",
       "      <th>D</th>\n",
       "    </tr>\n",
       "  </thead>\n",
       "  <tbody>\n",
       "  </tbody>\n",
       "</table>\n",
       "</div>"
      ],
      "text/plain": [
       "Empty DataFrame\n",
       "Columns: [A, B, C, D]\n",
       "Index: []"
      ]
     },
     "execution_count": 23,
     "metadata": {},
     "output_type": "execute_result"
    }
   ],
   "source": [
    "#drop all rows which have NaN\n",
    "df2.dropna()"
   ]
  },
  {
   "cell_type": "code",
   "execution_count": 24,
   "metadata": {
    "collapsed": false,
    "jupyter": {
     "outputs_hidden": false
    }
   },
   "outputs": [
    {
     "data": {
      "text/html": [
       "<div>\n",
       "<style scoped>\n",
       "    .dataframe tbody tr th:only-of-type {\n",
       "        vertical-align: middle;\n",
       "    }\n",
       "\n",
       "    .dataframe tbody tr th {\n",
       "        vertical-align: top;\n",
       "    }\n",
       "\n",
       "    .dataframe thead th {\n",
       "        text-align: right;\n",
       "    }\n",
       "</style>\n",
       "<table border=\"1\" class=\"dataframe\">\n",
       "  <thead>\n",
       "    <tr style=\"text-align: right;\">\n",
       "      <th></th>\n",
       "      <th>A</th>\n",
       "      <th>B</th>\n",
       "      <th>C</th>\n",
       "      <th>D</th>\n",
       "    </tr>\n",
       "  </thead>\n",
       "  <tbody>\n",
       "    <tr>\n",
       "      <td>0</td>\n",
       "      <td>0.172436</td>\n",
       "      <td>1.000000</td>\n",
       "      <td>0.135787</td>\n",
       "      <td>1.000000</td>\n",
       "    </tr>\n",
       "    <tr>\n",
       "      <td>1</td>\n",
       "      <td>1.000000</td>\n",
       "      <td>0.084834</td>\n",
       "      <td>0.434398</td>\n",
       "      <td>1.000000</td>\n",
       "    </tr>\n",
       "    <tr>\n",
       "      <td>2</td>\n",
       "      <td>1.000000</td>\n",
       "      <td>0.441800</td>\n",
       "      <td>1.000000</td>\n",
       "      <td>1.000000</td>\n",
       "    </tr>\n",
       "    <tr>\n",
       "      <td>3</td>\n",
       "      <td>1.000000</td>\n",
       "      <td>0.370440</td>\n",
       "      <td>1.000000</td>\n",
       "      <td>0.333318</td>\n",
       "    </tr>\n",
       "    <tr>\n",
       "      <td>4</td>\n",
       "      <td>0.149652</td>\n",
       "      <td>1.000000</td>\n",
       "      <td>1.000000</td>\n",
       "      <td>0.344858</td>\n",
       "    </tr>\n",
       "    <tr>\n",
       "      <td>5</td>\n",
       "      <td>0.381970</td>\n",
       "      <td>0.076347</td>\n",
       "      <td>1.000000</td>\n",
       "      <td>1.000000</td>\n",
       "    </tr>\n",
       "    <tr>\n",
       "      <td>6</td>\n",
       "      <td>0.078150</td>\n",
       "      <td>0.293688</td>\n",
       "      <td>0.212771</td>\n",
       "      <td>1.000000</td>\n",
       "    </tr>\n",
       "    <tr>\n",
       "      <td>7</td>\n",
       "      <td>0.342108</td>\n",
       "      <td>1.000000</td>\n",
       "      <td>1.000000</td>\n",
       "      <td>0.366659</td>\n",
       "    </tr>\n",
       "    <tr>\n",
       "      <td>8</td>\n",
       "      <td>1.000000</td>\n",
       "      <td>0.267222</td>\n",
       "      <td>0.246846</td>\n",
       "      <td>0.451634</td>\n",
       "    </tr>\n",
       "    <tr>\n",
       "      <td>9</td>\n",
       "      <td>1.000000</td>\n",
       "      <td>0.087329</td>\n",
       "      <td>0.379173</td>\n",
       "      <td>0.401570</td>\n",
       "    </tr>\n",
       "  </tbody>\n",
       "</table>\n",
       "</div>"
      ],
      "text/plain": [
       "          A         B         C         D\n",
       "0  0.172436  1.000000  0.135787  1.000000\n",
       "1  1.000000  0.084834  0.434398  1.000000\n",
       "2  1.000000  0.441800  1.000000  1.000000\n",
       "3  1.000000  0.370440  1.000000  0.333318\n",
       "4  0.149652  1.000000  1.000000  0.344858\n",
       "5  0.381970  0.076347  1.000000  1.000000\n",
       "6  0.078150  0.293688  0.212771  1.000000\n",
       "7  0.342108  1.000000  1.000000  0.366659\n",
       "8  1.000000  0.267222  0.246846  0.451634\n",
       "9  1.000000  0.087329  0.379173  0.401570"
      ]
     },
     "execution_count": 24,
     "metadata": {},
     "output_type": "execute_result"
    }
   ],
   "source": [
    "#replace NaN with other values\n",
    "df2.fillna(value=1)"
   ]
  },
  {
   "cell_type": "markdown",
   "metadata": {},
   "source": [
    "# Statistical Operations"
   ]
  },
  {
   "cell_type": "code",
   "execution_count": 25,
   "metadata": {
    "collapsed": false,
    "jupyter": {
     "outputs_hidden": false
    }
   },
   "outputs": [
    {
     "data": {
      "text/plain": [
       "A    0.544078\n",
       "B    0.340146\n",
       "C    0.484988\n",
       "D    0.510730\n",
       "dtype: float64"
      ]
     },
     "execution_count": 25,
     "metadata": {},
     "output_type": "execute_result"
    }
   ],
   "source": [
    "# taking mean\n",
    "df.mean()\n"
   ]
  },
  {
   "cell_type": "code",
   "execution_count": 26,
   "metadata": {
    "collapsed": false,
    "jupyter": {
     "outputs_hidden": false
    }
   },
   "outputs": [
    {
     "data": {
      "text/plain": [
       "0    0.388423\n",
       "1    0.499136\n",
       "2    0.556461\n",
       "3    0.508725\n",
       "4    0.511172\n",
       "5    0.519872\n",
       "6    0.278764\n",
       "7    0.497440\n",
       "8    0.480533\n",
       "9    0.459329\n",
       "dtype: float64"
      ]
     },
     "execution_count": 26,
     "metadata": {},
     "output_type": "execute_result"
    }
   ],
   "source": [
    "# mean in other axis\n",
    "df.mean(1)"
   ]
  },
  {
   "cell_type": "code",
   "execution_count": 27,
   "metadata": {},
   "outputs": [],
   "source": [
    "# read_csv and to_csv functions are used to read csv data and write to csv data respectively."
   ]
  },
  {
   "cell_type": "code",
   "execution_count": null,
   "metadata": {
    "collapsed": false,
    "jupyter": {
     "outputs_hidden": false
    }
   },
   "outputs": [],
   "source": []
  },
  {
   "cell_type": "code",
   "execution_count": null,
   "metadata": {
    "collapsed": true,
    "jupyter": {
     "outputs_hidden": true
    }
   },
   "outputs": [],
   "source": []
  }
 ],
 "metadata": {
  "anaconda-cloud": {},
  "kernelspec": {
   "display_name": "Python 3",
   "language": "python",
   "name": "python3"
  },
  "language_info": {
   "codemirror_mode": {
    "name": "ipython",
    "version": 3
   },
   "file_extension": ".py",
   "mimetype": "text/x-python",
   "name": "python",
   "nbconvert_exporter": "python",
   "pygments_lexer": "ipython3",
   "version": "3.7.4"
  }
 },
 "nbformat": 4,
 "nbformat_minor": 4
}
