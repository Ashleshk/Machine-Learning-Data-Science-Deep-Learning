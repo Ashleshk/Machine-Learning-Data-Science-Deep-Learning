{
 "cells": [
  {
   "cell_type": "markdown",
   "metadata": {},
   "source": [
    "# Mean, Median, Mode, and introducing NumPy"
   ]
  },
  {
   "cell_type": "markdown",
   "metadata": {},
   "source": [
    "## Mean vs. Median"
   ]
  },
  {
   "cell_type": "markdown",
   "metadata": {},
   "source": [
    "Let's create some fake income data, centered around 27,000 with a normal distribution and standard deviation of 15,000, with 10,000 data points. (We'll discuss those terms more later, if you're not familiar with them.)\n",
    "\n",
    "Then, compute the mean (average) - it should be close to 27,000:"
   ]
  },
  {
   "cell_type": "code",
   "execution_count": 1,
   "metadata": {},
   "outputs": [
    {
     "data": {
      "text/plain": [
       "27117.168211381013"
      ]
     },
     "execution_count": 1,
     "metadata": {},
     "output_type": "execute_result"
    }
   ],
   "source": [
    "import numpy as np\n",
    "\n",
    "incomes = np.random.normal(27000, 15000, 10000)\n",
    "np.mean(incomes)"
   ]
  },
  {
   "cell_type": "markdown",
   "metadata": {},
   "source": [
    "We can segment the income data into 50 buckets, and plot it as a histogram:"
   ]
  },
  {
   "cell_type": "code",
   "execution_count": 2,
   "metadata": {},
   "outputs": [
    {
     "data": {
      "image/png": "[encoded data removed]",
      "text/plain": [
       "<Figure size 432x288 with 1 Axes>"
      ]
     },
     "metadata": {
      "needs_background": "light"
     },
     "output_type": "display_data"
    }
   ],
   "source": [
    "%matplotlib inline\n",
    "import matplotlib.pyplot as plt\n",
    "plt.hist(incomes, 50)\n",
    "plt.show()"
   ]
  },
  {
   "cell_type": "markdown",
   "metadata": {},
   "source": [
    "Now compute the median - since we have a nice, even distribution it too should be close to 27,000:"
   ]
  },
  {
   "cell_type": "code",
   "execution_count": 3,
   "metadata": {},
   "outputs": [
    {
     "data": {
      "text/plain": [
       "27092.39320043316"
      ]
     },
     "execution_count": 3,
     "metadata": {},
     "output_type": "execute_result"
    }
   ],
   "source": [
    "np.median(incomes)"
   ]
  },
  {
   "cell_type": "markdown",
   "metadata": {},
   "source": [
    "Now we'll add Jeff Bezos into the mix. Darn income inequality!"
   ]
  },
  {
   "cell_type": "code",
   "execution_count": 3,
   "metadata": {},
   "outputs": [],
   "source": [
    "incomes = np.append(incomes, [1000000000])"
   ]
  },
  {
   "cell_type": "markdown",
   "metadata": {},
   "source": [
    "The median won't change much, but the mean does:"
   ]
  },
  {
   "cell_type": "code",
   "execution_count": 4,
   "metadata": {},
   "outputs": [
    {
     "data": {
      "text/plain": [
       "27148.401616762927"
      ]
     },
     "execution_count": 4,
     "metadata": {},
     "output_type": "execute_result"
    }
   ],
   "source": [
    "np.median(incomes)"
   ]
  },
  {
   "cell_type": "code",
   "execution_count": 5,
   "metadata": {},
   "outputs": [
    {
     "data": {
      "text/plain": [
       "127104.45776560444"
      ]
     },
     "execution_count": 5,
     "metadata": {},
     "output_type": "execute_result"
    }
   ],
   "source": [
    "np.mean(incomes)"
   ]
  },
  {
   "cell_type": "markdown",
   "metadata": {},
   "source": [
    "## Mode"
   ]
  },
  {
   "cell_type": "markdown",
   "metadata": {},
   "source": [
    "Next, let's generate some fake age data for 500 people:"
   ]
  },
  {
   "cell_type": "code",
   "execution_count": 8,
   "metadata": {},
   "outputs": [
    {
     "data": {
      "text/plain": [
       "array([75, 61, 70, 87, 82, 33, 28, 86, 57, 86, 43, 63, 71, 61, 70, 34, 42,\n",
       "       87, 23, 75, 25, 68, 25, 48, 61, 41, 57, 58, 46, 52, 42, 83, 37, 66,\n",
       "       34, 65, 53, 20, 87, 56, 69, 85, 69, 83, 71, 47, 27, 70, 80, 84, 38,\n",
       "       30, 77, 38, 78, 37, 36, 25, 46, 70, 65, 44, 42, 21, 89, 78, 37, 76,\n",
       "       70, 50, 61, 89, 51, 36, 26, 50, 21, 49, 67, 23, 42, 75, 84, 28, 32,\n",
       "       45, 53, 81, 79, 80, 81, 57, 30, 56, 81, 64, 83, 28, 71, 41, 72, 75,\n",
       "       40, 79, 84, 60, 43, 65, 69, 49, 27, 60, 87, 38, 32, 59, 18, 49, 35,\n",
       "       18, 25, 87, 82, 58, 83, 77, 66, 31, 72, 86, 66, 24, 51, 26, 37, 20,\n",
       "       27, 21, 40, 76, 55, 74, 64, 26, 44, 67, 24, 32, 52, 63, 21, 33, 84,\n",
       "       66, 78, 18, 47, 40, 41, 30, 71, 83, 77, 63, 47, 23, 85, 74, 37, 83,\n",
       "       59, 29, 26, 68, 60, 72, 59, 68, 64, 50, 43, 32, 52, 53, 37, 32, 46,\n",
       "       70, 21, 21, 58, 46, 47, 43, 22, 58, 87, 40, 86, 76, 21, 60, 55, 68,\n",
       "       52, 35, 19, 84, 76, 75, 39, 89, 82, 45, 73, 27, 39, 23, 74, 25, 33,\n",
       "       55, 71, 81, 23, 63, 81, 46, 54, 87, 72, 48, 85, 83, 33, 37, 77, 69,\n",
       "       19, 78, 56, 35, 71, 69, 66, 29, 74, 40, 28, 86, 60, 32, 21, 29, 78,\n",
       "       81, 22, 20, 81, 24, 55, 66, 76, 71, 41, 35, 72, 51, 56, 89, 83, 38,\n",
       "       84, 46, 68, 70, 55, 66, 75, 52, 52, 75, 79, 51, 21, 26, 48, 59, 78,\n",
       "       39, 35, 43, 43, 51, 45, 71, 20, 72, 78, 41, 59, 30, 66, 74, 33, 70,\n",
       "       26, 49, 54, 43, 65, 60, 36, 66, 51, 58, 32, 68, 27, 73, 59, 63, 44,\n",
       "       70, 42, 24, 70, 73, 78, 35, 24, 55, 35, 79, 89, 31, 33, 28, 40, 31,\n",
       "       49, 55, 36, 73, 43, 82, 26, 84, 76, 51, 18, 36, 25, 49, 59, 61, 78,\n",
       "       75, 38, 38, 64, 87, 81, 77, 89, 52, 34, 61, 86, 70, 80, 30, 19, 69,\n",
       "       30, 38, 51, 26, 59, 56, 20, 28, 75, 36, 80, 20, 68, 44, 19, 32, 74,\n",
       "       27, 30, 89, 46, 81, 31, 37, 26, 87, 88, 20, 75, 65, 66, 45, 47, 35,\n",
       "       50, 25, 32, 58, 64, 79, 75, 27, 72, 44, 42, 43, 30, 89, 39, 84, 87,\n",
       "       57, 43, 30, 79, 27, 45, 44, 86, 44, 83, 74, 19, 64, 26, 65, 56, 29,\n",
       "       79, 46, 47, 86, 63, 42, 49, 43, 74, 20, 22, 30, 59, 47, 67, 81, 56,\n",
       "       43, 41, 35, 46, 83, 62, 37, 45, 37, 22, 55, 33, 48, 62, 64, 44, 23,\n",
       "       69, 74, 52, 18, 31, 68, 18, 19, 50, 27, 52, 83, 84, 53, 48, 85, 41,\n",
       "       57, 62, 34, 56, 79, 63, 67])"
      ]
     },
     "execution_count": 8,
     "metadata": {},
     "output_type": "execute_result"
    }
   ],
   "source": [
    "ages = np.random.randint(18, high=90, size=500)\n",
    "ages"
   ]
  },
  {
   "cell_type": "code",
   "execution_count": 9,
   "metadata": {},
   "outputs": [
    {
     "data": {
      "text/plain": [
       "ModeResult(mode=array([43]), count=array([12]))"
      ]
     },
     "execution_count": 9,
     "metadata": {},
     "output_type": "execute_result"
    }
   ],
   "source": [
    "from scipy import stats\n",
    "stats.mode(ages)"
   ]
  },
  {
   "cell_type": "code",
   "execution_count": null,
   "metadata": {},
   "outputs": [],
   "source": []
  }
 ],
 "metadata": {
  "kernelspec": {
   "display_name": "Python 3",
   "language": "python",
   "name": "python3"
  },
  "language_info": {
   "codemirror_mode": {
    "name": "ipython",
    "version": 3
   },
   "file_extension": ".py",
   "mimetype": "text/x-python",
   "name": "python",
   "nbconvert_exporter": "python",
   "pygments_lexer": "ipython3",
   "version": "3.7.4"
  }
 },
 "nbformat": 4,
 "nbformat_minor": 1
}
